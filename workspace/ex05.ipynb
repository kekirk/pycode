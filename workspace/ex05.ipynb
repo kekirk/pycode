{
 "cells": [
  {
   "cell_type": "code",
   "execution_count": 18,
   "metadata": {
    "scrolled": true
   },
   "outputs": [
    {
     "name": "stdout",
     "output_type": "stream",
     "text": [
      "Let's talk about 亚克力 .\n",
      "He's 74 inches tall .\n",
      "He's 180 pounds heavy.\n",
      "He's got Blue eyes and Brown hair.\n",
      "If I add 42, 74, and 180 I get 296.\n"
     ]
    }
   ],
   "source": [
    "my_name = \"亚克力\"\n",
    "\n",
    "my_age = 42\n",
    "\n",
    "my_height = 74\n",
    "\n",
    "my_weight = 180\n",
    "\n",
    "my_eye = 'Blue'\n",
    "\n",
    "my_teeth = 'White'\n",
    "\n",
    "my_hair = 'Brown'\n",
    "\n",
    "print (\"Let's talk about %s .\" % my_name)\n",
    "\n",
    "print (\"He's %d inches tall .\" % my_height)\n",
    "\n",
    "print (\"He's %d pounds heavy.\" % my_weight)\n",
    "\n",
    "print (\"He's got %s eyes and %s hair.\" % (my_eye, my_hair))\n",
    "\n",
    "print (\"If I add %d, %d, and %d I get %d.\" % (my_age, my_height, my_weight, my_age + my_height + my_weight))"
   ]
  },
  {
   "cell_type": "code",
   "execution_count": null,
   "metadata": {
    "collapsed": true
   },
   "outputs": [],
   "source": []
  }
 ],
 "metadata": {
  "kernelspec": {
   "display_name": "Python 3",
   "language": "python",
   "name": "python3"
  },
  "language_info": {
   "codemirror_mode": {
    "name": "ipython",
    "version": 3
   },
   "file_extension": ".py",
   "mimetype": "text/x-python",
   "name": "python",
   "nbconvert_exporter": "python",
   "pygments_lexer": "ipython3",
   "version": "3.5.3"
  }
 },
 "nbformat": 4,
 "nbformat_minor": 2
}
