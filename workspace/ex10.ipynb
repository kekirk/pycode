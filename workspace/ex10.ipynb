{
 "cells": [
  {
   "cell_type": "code",
   "execution_count": 44,
   "metadata": {},
   "outputs": [
    {
     "name": "stdout",
     "output_type": "stream",
     "text": [
      "\tI'm tabbed in.\n",
      "\"\\tI'm tabbed in.\"\n",
      "I'm split\n",
      "on a line.\n",
      "\"I'm split\\non a line.\"\n",
      "I'm \\ a \\ cat.\n",
      "\"I'm \\\\ a \\\\ cat.\"\n",
      "\n",
      "I'll do a list:\n",
      "\t* Cat food\n",
      "\t* Fishies\n",
      "\t* Catnip\n",
      "\t* Grass\n",
      "\n"
     ]
    }
   ],
   "source": [
    "tabby_cat = \"\\tI'm tabbed in.\"\n",
    "\n",
    "persian_cat = \"I'm split\\non a line.\"\n",
    "\n",
    "backslash_cat = \"I'm \\\\ a \\\\ cat.\"\n",
    "\n",
    "fat_cat = \"\"\"\n",
    "I'll do a list:\n",
    "\\t* Cat food\n",
    "\\t* Fishies\n",
    "\\t* Catnip\\n\\t* Grass\n",
    "\"\"\"\n",
    "\n",
    "print (\"%s\" % tabby_cat)\n",
    "\n",
    "print (\"%r\" % tabby_cat)\n",
    "\n",
    "print (\"%s\" % persian_cat)\n",
    "\n",
    "print (\"%r\" % persian_cat)\n",
    "\n",
    "print (\"%s\" % backslash_cat)\n",
    "\n",
    "print (\"%r\" % backslash_cat)\n",
    "\n",
    "print (fat_cat)"
   ]
  },
  {
   "cell_type": "code",
   "execution_count": null,
   "metadata": {
    "collapsed": true
   },
   "outputs": [],
   "source": []
  },
  {
   "cell_type": "code",
   "execution_count": null,
   "metadata": {
    "collapsed": true
   },
   "outputs": [],
   "source": []
  }
 ],
 "metadata": {
  "kernelspec": {
   "display_name": "Python 3",
   "language": "python",
   "name": "python3"
  },
  "language_info": {
   "codemirror_mode": {
    "name": "ipython",
    "version": 3
   },
   "file_extension": ".py",
   "mimetype": "text/x-python",
   "name": "python",
   "nbconvert_exporter": "python",
   "pygments_lexer": "ipython3",
   "version": "3.5.3"
  }
 },
 "nbformat": 4,
 "nbformat_minor": 2
}
