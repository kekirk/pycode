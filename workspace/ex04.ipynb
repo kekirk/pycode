{
 "cells": [
  {
   "cell_type": "code",
   "execution_count": 17,
   "metadata": {},
   "outputs": [
    {
     "name": "stdout",
     "output_type": "stream",
     "text": [
      "There are 100 cars available.\n",
      "There are only 30 drivers available.\n",
      "There will be 70 empty cars today.\n",
      "We can transport 120 people today.\n",
      "We have 90 to carpool today.\n",
      "We need to put about 3 in each car.\n"
     ]
    }
   ],
   "source": [
    "cars = 100\n",
    "\n",
    "space_in_a_car = 4\n",
    "\n",
    "drivers = 30\n",
    "\n",
    "passengers = 90\n",
    "\n",
    "cars_not_driven = cars -drivers # 100-30\n",
    "\n",
    "cars_driven = drivers # 30\n",
    "\n",
    "carpool_capacity = cars_driven * space_in_a_car # 30 * 4\n",
    "\n",
    "average_passengers_per_car = passengers // cars_driven\n",
    "\n",
    "print (\"There are\", cars, \"cars available.\")\n",
    "\n",
    "print (\"There are only\", drivers, \"drivers available.\") \n",
    "\n",
    "print (\"There will be\", cars_not_driven, \"empty cars today.\")\n",
    "\n",
    "print (\"We can transport\", carpool_capacity, \"people today.\")\n",
    "\n",
    "print (\"We have\", passengers, \"to carpool today.\")\n",
    "\n",
    "print (\"We need to put about\", average_passengers_per_car, \"in each car.\")\n"
   ]
  },
  {
   "cell_type": "code",
   "execution_count": null,
   "metadata": {
    "collapsed": true
   },
   "outputs": [],
   "source": []
  }
 ],
 "metadata": {
  "kernelspec": {
   "display_name": "Python 3",
   "language": "python",
   "name": "python3"
  },
  "language_info": {
   "codemirror_mode": {
    "name": "ipython",
    "version": 3
   },
   "file_extension": ".py",
   "mimetype": "text/x-python",
   "name": "python",
   "nbconvert_exporter": "python",
   "pygments_lexer": "ipython3",
   "version": "3.5.3"
  }
 },
 "nbformat": 4,
 "nbformat_minor": 2
}
