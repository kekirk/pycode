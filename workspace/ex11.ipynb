{
 "cells": [
  {
   "cell_type": "code",
   "execution_count": 1,
   "metadata": {},
   "outputs": [
    {
     "name": "stdout",
     "output_type": "stream",
     "text": [
      "How old are you? 35\n",
      "How tall are you? 166cm\n",
      "How much do you weight? 65kg\n",
      "So, you're '35' old, '166cm' tall and '65kg' heavy.\n"
     ]
    }
   ],
   "source": [
    "print (\"How old are you?\", end=' ')\n",
    "\n",
    "age = input()\n",
    "\n",
    "print (\"How tall are you?\", end=' ')\n",
    "\n",
    "height = input()\n",
    "\n",
    "print (\"How much do you weight?\", end=' ')\n",
    "\n",
    "weight = input()\n",
    "\n",
    "print (\"So, you're %r old, %r tall and %r heavy.\" % (age, height, weight))"
   ]
  },
  {
   "cell_type": "code",
   "execution_count": null,
   "metadata": {
    "collapsed": true
   },
   "outputs": [],
   "source": []
  }
 ],
 "metadata": {
  "kernelspec": {
   "display_name": "Python 3",
   "language": "python",
   "name": "python3"
  },
  "language_info": {
   "codemirror_mode": {
    "name": "ipython",
    "version": 3
   },
   "file_extension": ".py",
   "mimetype": "text/x-python",
   "name": "python",
   "nbconvert_exporter": "python",
   "pygments_lexer": "ipython3",
   "version": "3.5.3"
  }
 },
 "nbformat": 4,
 "nbformat_minor": 2
}
