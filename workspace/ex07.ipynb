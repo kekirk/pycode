{
 "cells": [
  {
   "cell_type": "code",
   "execution_count": 11,
   "metadata": {},
   "outputs": [
    {
     "name": "stdout",
     "output_type": "stream",
     "text": [
      "Mary had a little lamb\n",
      "Its fleece was white as snow.\n",
      "And everywhere that Mary went.\n",
      "..........\n",
      "Cheese Burger\n"
     ]
    }
   ],
   "source": [
    "print (\"Mary had a little lamb\")\n",
    "\n",
    "print (\"Its fleece was white as %s.\" % 'snow')\n",
    "\n",
    "print (\"And everywhere that Mary went.\")\n",
    "\n",
    "print (\".\" * 10)\n",
    "\n",
    "end1 = \"C\"\n",
    "\n",
    "end2 = \"h\"\n",
    "\n",
    "end3 = \"e\"\n",
    "\n",
    "end4 = \"e\"\n",
    "\n",
    "end5 = \"s\"\n",
    "\n",
    "end6 = \"e\"\n",
    "\n",
    "end7 = \"B\"\n",
    "\n",
    "end8 = \"u\"\n",
    "\n",
    "end9 = \"r\"\n",
    "\n",
    "end10 = \"g\"\n",
    "\n",
    "end11 = \"e\"\n",
    "\n",
    "end12 = \"r\"\n",
    "\n",
    "print (end1 + end2 + end3 + end4 + end5 + end6, end = ' ')\n",
    "\n",
    "print (end7 + end8 + end9 + end10 + end11 + end12)"
   ]
  },
  {
   "cell_type": "code",
   "execution_count": null,
   "metadata": {
    "collapsed": true
   },
   "outputs": [],
   "source": []
  }
 ],
 "metadata": {
  "kernelspec": {
   "display_name": "Python 3",
   "language": "python",
   "name": "python3"
  },
  "language_info": {
   "codemirror_mode": {
    "name": "ipython",
    "version": 3
   },
   "file_extension": ".py",
   "mimetype": "text/x-python",
   "name": "python",
   "nbconvert_exporter": "python",
   "pygments_lexer": "ipython3",
   "version": "3.5.3"
  }
 },
 "nbformat": 4,
 "nbformat_minor": 2
}
