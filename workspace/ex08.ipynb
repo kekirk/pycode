{
 "cells": [
  {
   "cell_type": "code",
   "execution_count": 29,
   "metadata": {},
   "outputs": [
    {
     "name": "stdout",
     "output_type": "stream",
     "text": [
      "1\n",
      " 2\n",
      " 3\n",
      " 4\n",
      " \n",
      "\n",
      "'one'\n",
      " 'two'\n",
      " 'three'\n",
      " 'four'\n",
      " \n",
      "\n",
      "True\n",
      " False\n",
      " True\n",
      " False\n",
      " \n",
      "\n",
      "'%r\\n %r\\n %r\\n %r\\n'\n",
      " '%r\\n %r\\n %r\\n %r\\n'\n",
      " '%r\\n %r\\n %r\\n %r\\n'\n",
      " '%r\\n %r\\n %r\\n %r\\n'\n",
      " \n",
      "\n",
      "'I had this thing.'\n",
      " 'That you could type up right.'\n",
      " \"But it didn't sing.\"\n",
      " 'So I said goodnight.'\n",
      "\n"
     ]
    }
   ],
   "source": [
    "formatter = \"%r\\n %r\\n %r\\n %r\\n\"\n",
    "\n",
    "print (formatter % (1, 2, 3, 4), '\\n')\n",
    "\n",
    "print (formatter % (\"one\", \"two\", \"three\", \"four\"), '\\n')\n",
    "\n",
    "print (formatter % (True, False, True, False), '\\n')\n",
    "\n",
    "print (formatter % (formatter, formatter, formatter, formatter), '\\n')\n",
    "\n",
    "print (formatter % \n",
    "       (\n",
    "           \"I had this thing.\", \n",
    "           \"That you could type up right.\", \n",
    "           \"But it didn't sing.\", \n",
    "           \"So I said goodnight.\"\n",
    "        )\n",
    "      )"
   ]
  },
  {
   "cell_type": "code",
   "execution_count": null,
   "metadata": {
    "collapsed": true
   },
   "outputs": [],
   "source": []
  }
 ],
 "metadata": {
  "kernelspec": {
   "display_name": "Python 3",
   "language": "python",
   "name": "python3"
  },
  "language_info": {
   "codemirror_mode": {
    "name": "ipython",
    "version": 3
   },
   "file_extension": ".py",
   "mimetype": "text/x-python",
   "name": "python",
   "nbconvert_exporter": "python",
   "pygments_lexer": "ipython3",
   "version": "3.5.3"
  }
 },
 "nbformat": 4,
 "nbformat_minor": 2
}
