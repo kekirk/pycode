{
 "cells": [
  {
   "cell_type": "markdown",
   "metadata": {},
   "source": [
    "# python ex16.py ex16_sample.txt"
   ]
  },
  {
   "cell_type": "code",
   "execution_count": null,
   "metadata": {
    "collapsed": true
   },
   "outputs": [],
   "source": [
    "from sys import argv\n",
    "\n",
    "script, filename = argv\n",
    "\n",
    "print (\"We're going to erase %r\" % filename)\n",
    "\n",
    "print (\"If you don't want that, hit CTRL-C (^C).\")\n",
    "\n",
    "print (\"If you do want that, hit RETURN.\")\n",
    "\n",
    "input (\"?\")\n",
    "\n",
    "\n",
    "print (\"Opening the file...\")\n",
    "\n",
    "target = open(filename, 'w')\n",
    "\n",
    "print (\"Truncating the file. Goodbye!\")\n",
    "\n",
    "target.truncate()\n",
    "\n",
    "print (\"Now I'm going to ask you for three lines.\")\n",
    "\n",
    "line1 = input (\"Line 1 : \")\n",
    "\n",
    "line2 = input (\"Line 2 : \")\n",
    "\n",
    "line3 = input (\"Line 3 : \")\n",
    "\n",
    "all_lines = line1 + '\\n' + line2 + '\\n' +line3\n",
    "\n",
    "# print (all_lines)\n",
    "\n",
    "print (\"I'm going to write there to the file.\")\n",
    "\n",
    "target.write (all_lines)\n",
    "\n",
    "print (\"And finally. we close it.\")\n",
    "\n",
    "target.close()\n"
   ]
  }
 ],
 "metadata": {
  "kernelspec": {
   "display_name": "Python 3",
   "language": "python",
   "name": "python3"
  },
  "language_info": {
   "codemirror_mode": {
    "name": "ipython",
    "version": 3
   },
   "file_extension": ".py",
   "mimetype": "text/x-python",
   "name": "python",
   "nbconvert_exporter": "python",
   "pygments_lexer": "ipython3",
   "version": "3.5.3"
  }
 },
 "nbformat": 4,
 "nbformat_minor": 2
}
