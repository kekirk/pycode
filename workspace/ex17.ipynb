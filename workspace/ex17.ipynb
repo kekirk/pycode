{
 "cells": [
  {
   "cell_type": "code",
   "execution_count": null,
   "metadata": {
    "collapsed": true
   },
   "outputs": [],
   "source": [
    "# python ex17.py ex15_sample.txt ex17_sample.txt\n",
    "\n",
    "from sys import argv\n",
    "from os.path import exists\n",
    "\n",
    "script, from_file, to_file = argv\n",
    "\n",
    "print (\"Copy from %s to %s\" % (from_file, to_file))\n",
    "\n",
    "input_f = open(from_file)\n",
    "\n",
    "indata = input_f.read()\n",
    "\n",
    "print (\"The input file is %d bytes long.\" % len(indata))\n",
    "\n",
    "print (\"Does the output file exist? %r\" % exists(to_file))\n",
    "\n",
    "print (\"Ready, hit RETURN to continue, CTRL-C to abort.\")\n",
    "\n",
    "input()\n",
    "\n",
    "output_f = open(to_file, 'w')\n",
    "\n",
    "output_f.write(indata)\n",
    "\n",
    "print (\"Alright, all done.\")\n",
    "\n",
    "output_f.close()\n",
    "\n",
    "input_f.close()\n",
    "\n"
   ]
  }
 ],
 "metadata": {
  "kernelspec": {
   "display_name": "Python 3",
   "language": "python",
   "name": "python3"
  },
  "language_info": {
   "codemirror_mode": {
    "name": "ipython",
    "version": 3
   },
   "file_extension": ".py",
   "mimetype": "text/x-python",
   "name": "python",
   "nbconvert_exporter": "python",
   "pygments_lexer": "ipython3",
   "version": "3.5.3"
  }
 },
 "nbformat": 4,
 "nbformat_minor": 2
}
