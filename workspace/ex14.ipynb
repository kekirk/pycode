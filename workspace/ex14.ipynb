{
 "cells": [
  {
   "cell_type": "code",
   "execution_count": 3,
   "metadata": {},
   "outputs": [
    {
     "ename": "ValueError",
     "evalue": "too many values to unpack (expected 2)",
     "output_type": "error",
     "traceback": [
      "\u001b[1;31m---------------------------------------------------------------------------\u001b[0m",
      "\u001b[1;31mValueError\u001b[0m                                Traceback (most recent call last)",
      "\u001b[1;32m<ipython-input-3-79fafdeaaf92>\u001b[0m in \u001b[0;36m<module>\u001b[1;34m()\u001b[0m\n\u001b[0;32m      4\u001b[0m \u001b[1;32mfrom\u001b[0m \u001b[0msys\u001b[0m \u001b[1;32mimport\u001b[0m \u001b[0margv\u001b[0m\u001b[1;33m\u001b[0m\u001b[0m\n\u001b[0;32m      5\u001b[0m \u001b[1;33m\u001b[0m\u001b[0m\n\u001b[1;32m----> 6\u001b[1;33m \u001b[0mscript\u001b[0m\u001b[1;33m,\u001b[0m \u001b[0muser_name\u001b[0m \u001b[1;33m=\u001b[0m \u001b[0margv\u001b[0m\u001b[1;33m\u001b[0m\u001b[0m\n\u001b[0m\u001b[0;32m      7\u001b[0m \u001b[1;33m\u001b[0m\u001b[0m\n\u001b[0;32m      8\u001b[0m \u001b[0mprompt\u001b[0m \u001b[1;33m=\u001b[0m \u001b[1;34m'#>'\u001b[0m\u001b[1;33m\u001b[0m\u001b[0m\n",
      "\u001b[1;31mValueError\u001b[0m: too many values to unpack (expected 2)"
     ]
    }
   ],
   "source": [
    "# can't run in notebook\n",
    "# use terminal python ex14.py Mr.Kirk\n",
    "\n",
    "from sys import argv\n",
    "\n",
    "script, user_name = argv\n",
    "\n",
    "prompt = '#>'\n",
    "\n",
    "print (\"Hi %s, I'm the %s script.\" % (user_name, script))\n",
    "\n",
    "print (\"I'd like to ask you a few questions.,\")\n",
    "\n",
    "print (\"Do you like me %s ?\" % user_name)\n",
    "\n",
    "likes = input(prompt)\n",
    "\n",
    "print (\"Where do you live %s?\" % user_name)\n",
    "\n",
    "lives = input(prompt)\n",
    "\n",
    "print (\"What kind of computer do you have?\")\n",
    "\n",
    "computer = input(prompt)\n",
    "\n",
    "print (\n",
    "\"\"\"\n",
    "Alright, so you said %r about liking me.\n",
    "You live in %r. %r is wonderful place!\n",
    "And you have a %r computer. Nice.\n",
    "\"\"\" % (likes, lives, lives, computer)\n",
    ")"
   ]
  },
  {
   "cell_type": "code",
   "execution_count": null,
   "metadata": {
    "collapsed": true
   },
   "outputs": [],
   "source": []
  }
 ],
 "metadata": {
  "kernelspec": {
   "display_name": "Python 3",
   "language": "python",
   "name": "python3"
  },
  "language_info": {
   "codemirror_mode": {
    "name": "ipython",
    "version": 3
   },
   "file_extension": ".py",
   "mimetype": "text/x-python",
   "name": "python",
   "nbconvert_exporter": "python",
   "pygments_lexer": "ipython3",
   "version": "3.5.3"
  }
 },
 "nbformat": 4,
 "nbformat_minor": 2
}
