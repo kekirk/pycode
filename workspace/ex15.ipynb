{
 "cells": [
  {
   "cell_type": "code",
   "execution_count": null,
   "metadata": {
    "collapsed": true
   },
   "outputs": [],
   "source": [
    "from sys import argv\n",
    "\n",
    "script, filename = argv\n",
    "\n",
    "txt = open (filename)\n",
    "\n",
    "print (\"Here's your file %r\" % filename)\n",
    "\n",
    "print (txt.read())\n",
    "\n",
    "print (\"Type the filename again:\")\n",
    "\n",
    "file_name = input(\">\")\n",
    "\n",
    "txt_again = open (file_name)\n",
    "\n",
    "print (txt_again.read())\n"
   ]
  }
 ],
 "metadata": {
  "kernelspec": {
   "display_name": "Python 3",
   "language": "python",
   "name": "python3"
  },
  "language_info": {
   "codemirror_mode": {
    "name": "ipython",
    "version": 3
   },
   "file_extension": ".py",
   "mimetype": "text/x-python",
   "name": "python",
   "nbconvert_exporter": "python",
   "pygments_lexer": "ipython3",
   "version": "3.5.3"
  }
 },
 "nbformat": 4,
 "nbformat_minor": 2
}
